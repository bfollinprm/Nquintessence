{
 "metadata": {
  "name": ""
 },
 "nbformat": 3,
 "nbformat_minor": 0,
 "worksheets": [
  {
   "cells": [
    {
     "cell_type": "code",
     "collapsed": false,
     "input": [
      "from lnl import lnl"
     ],
     "language": "python",
     "metadata": {},
     "outputs": [],
     "prompt_number": 1
    },
    {
     "cell_type": "code",
     "collapsed": false,
     "input": [
      "from scipy.optimize import minimize"
     ],
     "language": "python",
     "metadata": {},
     "outputs": [],
     "prompt_number": 2
    },
    {
     "cell_type": "code",
     "collapsed": false,
     "input": [
      "x0 = [  .13,  70,\n",
      "         0,   -1]\n",
      "def fun(x):\n",
      "    cosmo = {\t\t'omega_m': x[0],\n",
      "\t\t\t\t\t'H0': x[1],\n",
      "\t\t\t\t\t'm_chi_over_H0' : 10**x[2],\n",
      "\t\t\t\t\t'chi0' : 10**(x[3]),\n",
      "\t\t\t\t\t'chidot0': 0,\n",
      "\t\t\t\t\t'r_s':147.5\n",
      "\t\t\t\t\t }\n",
      "    return lnl(cosmo)\n",
      "    "
     ],
     "language": "python",
     "metadata": {},
     "outputs": [],
     "prompt_number": 3
    },
    {
     "cell_type": "code",
     "collapsed": false,
     "input": [
      "bounds = [(.1, .15), (60,80), (-2,2), (-4,0)]\n",
      "bestfit_axion = minimize(fun, x0, \n",
      "                         method = 'COBYLA', \n",
      "                         #bounds = bounds,\n",
      "                         options = {'tol' : 1.0e-3,\n",
      "                                    'rhobeg' : [.005, 1, .1, .1],\n",
      "                                    'catol' : 1e-6\n",
      "                                    }).x"
     ],
     "language": "python",
     "metadata": {},
     "outputs": [
      {
       "output_type": "stream",
       "stream": "stdout",
       "text": [
        "lnl is 13.944579\n",
        "lnl is 8.555346"
       ]
      },
      {
       "output_type": "stream",
       "stream": "stdout",
       "text": [
        "\n",
        "lnl is 8.549932"
       ]
      },
      {
       "output_type": "stream",
       "stream": "stdout",
       "text": [
        "\n",
        "lnl is 8.546220"
       ]
      },
      {
       "output_type": "stream",
       "stream": "stdout",
       "text": [
        "\n",
        "lnl is 8.540107"
       ]
      },
      {
       "output_type": "stream",
       "stream": "stdout",
       "text": [
        "\n",
        "lnl is 6.905148"
       ]
      },
      {
       "output_type": "stream",
       "stream": "stdout",
       "text": [
        "\n",
        "lnl is 8.915406"
       ]
      },
      {
       "output_type": "stream",
       "stream": "stdout",
       "text": [
        "\n",
        "lnl is 7.460592"
       ]
      },
      {
       "output_type": "stream",
       "stream": "stdout",
       "text": [
        "\n",
        "lnl is 6.903872"
       ]
      },
      {
       "output_type": "stream",
       "stream": "stdout",
       "text": [
        "\n",
        "lnl is 6.928300"
       ]
      },
      {
       "output_type": "stream",
       "stream": "stdout",
       "text": [
        "\n",
        "lnl is 6.903071"
       ]
      },
      {
       "output_type": "stream",
       "stream": "stdout",
       "text": [
        "\n",
        "lnl is 7.192704"
       ]
      },
      {
       "output_type": "stream",
       "stream": "stdout",
       "text": [
        "\n",
        "lnl is 7.007133"
       ]
      },
      {
       "output_type": "stream",
       "stream": "stdout",
       "text": [
        "\n",
        "lnl is 6.911078"
       ]
      },
      {
       "output_type": "stream",
       "stream": "stdout",
       "text": [
        "\n",
        "lnl is 6.935188"
       ]
      },
      {
       "output_type": "stream",
       "stream": "stdout",
       "text": [
        "\n"
       ]
      },
      {
       "output_type": "stream",
       "stream": "stderr",
       "text": [
        "/Users/follin/projects/anaconda/lib/python2.7/site-packages/scipy/optimize/_minimize.py:375: RuntimeWarning: Method COBYLA cannot handle bounds.\n",
        "  RuntimeWarning)\n"
       ]
      }
     ],
     "prompt_number": 4
    },
    {
     "cell_type": "code",
     "collapsed": false,
     "input": [
      "chi2 = 2 * fun(bestfit_axion)\n",
      "print 'chi2 is ', chi2\n",
      "print 'bestfit is', bestfit_axion\n",
      "x = bestfit_axion\n",
      "from get_background import get_hubble_rate\n",
      "da, h = get_hubble_rate(**{\t\t'omega_m': x[0],\n",
      "\t\t\t\t\t'H0': x[1],\n",
      "\t\t\t\t\t'M_chi_over_H0' : x[2],\n",
      "\t\t\t\t\t'chi0' : x[3],\n",
      "\t\t\t\t\t'chidot0': 0,\n",
      "\t\t\t\t\t'r_s':147.5\n",
      "\t\t\t\t\t })\n",
      "z = linspace(0,20, 10000)\n",
      "plot(z, da(z)/147.5)\n",
      "scatter(array([0.35, 0.57, 2.4]), array([6.875, 9.191, 10.8]))\n",
      "figure()\n",
      "plot(z, h(z)*3e5)\n",
      "y = array([12895, 14231, 3e5/9])/147.5\n",
      "scatter(array([0.35, 0.57, 2.4]), y)"
     ],
     "language": "python",
     "metadata": {},
     "outputs": [
      {
       "output_type": "stream",
       "stream": "stdout",
       "text": [
        "lnl is 6.935188\n",
        "chi2 is  13.8703752249\n",
        "bestfit is [  1.39004198e-01   7.00062618e+01   6.25695053e-03  -9.95143201e-01]\n"
       ]
      },
      {
       "metadata": {},
       "output_type": "pyout",
       "prompt_number": 5,
       "text": [
        "<matplotlib.collections.PathCollection at 0x106e4e410>"
       ]
      },
      {
       "metadata": {},
       "output_type": "display_data",
       "png": "[encoded data removed]",
       "text": [
        "<matplotlib.figure.Figure at 0x106ddbc10>"
       ]
      },
      {
       "metadata": {},
       "output_type": "display_data",
       "png": "[encoded data removed]",
       "text": [
        "<matplotlib.figure.Figure at 0x106de0fd0>"
       ]
      }
     ],
     "prompt_number": 5
    },
    {
     "cell_type": "code",
     "collapsed": false,
     "input": [
      "x0 = [  1.39245792e-01,  7.22385516e+01]\n",
      "def fun(x):\n",
      "    cosmo = {\t\t'omega_m': x[0],\n",
      "\t\t\t\t\t'H0': x[1],\n",
      "\t\t\t\t\t'M_chi_over_H0' : .0001,\n",
      "\t\t\t\t\t'chi0' : 0,\n",
      "\t\t\t\t\t'chidot0': 0,\n",
      "\t\t\t\t\t'r_s':147.5\n",
      "\t\t\t\t\t }\n",
      "    return lnl(cosmo)"
     ],
     "language": "python",
     "metadata": {},
     "outputs": [],
     "prompt_number": 6
    },
    {
     "cell_type": "code",
     "collapsed": false,
     "input": [
      "bounds = [(.1, .15), (60,80)]\n",
      "\n",
      "bestfit_lcdm = minimize(fun, x0, \n",
      "                        method = 'COBYLA', \n",
      "                        #bounds = bounds,\n",
      "                        options = {'tol' : 1.0e-3,\n",
      "                                    'rhobeg' : [.005, 1],\n",
      "                                    'catol' : 1e-6\n",
      "                                    }).x\n"
     ],
     "language": "python",
     "metadata": {},
     "outputs": [
      {
       "ename": "SyntaxError",
       "evalue": "invalid syntax (<ipython-input-7-153de5674d06>, line 6)",
       "output_type": "pyerr",
       "traceback": [
        "\u001b[0;36m  File \u001b[0;32m\"<ipython-input-7-153de5674d06>\"\u001b[0;36m, line \u001b[0;32m6\u001b[0m\n\u001b[0;31m    options = {'tol' : 1.0e-3,\u001b[0m\n\u001b[0m          ^\u001b[0m\n\u001b[0;31mSyntaxError\u001b[0m\u001b[0;31m:\u001b[0m invalid syntax\n"
       ]
      }
     ],
     "prompt_number": 7
    },
    {
     "cell_type": "code",
     "collapsed": false,
     "input": [
      "chi2 = 2 * fun(bestfit_lcdm)\n",
      "print 'chi2 is ', chi2\n",
      "print 'bestfit is', bestfit_lcdm\n",
      "x = bestfit_lcdm\n",
      "from get_background import get_hubble_rate\n",
      "da_lcdm, h_lcdm = get_hubble_rate(**{\t'omega_m': x[0],\n",
      "\t\t\t\t\t'H0': x[1],\n",
      "\t\t\t\t\t'M_chi_over_H0' : .0001,\n",
      "\t\t\t\t\t'chi0' : 0,\n",
      "\t\t\t\t\t'chidot0': 0,\n",
      "\t\t\t\t\t'r_s':147.5\n",
      "\t\t\t\t\t })\n",
      "z = linspace(0,20, 10000)\n",
      "plot(z, da_lcdm(z)/147.5)\n",
      "scatter(array([0.35, 0.57, 2.4]), array([6.875, 9.191, 10.8]))\n",
      "figure()\n",
      "plot(z, h_lcdm(z)*3e5)\n",
      "y = array([12895, 14231, 3e5/9])/147.5\n",
      "scatter(array([0.35, 0.57, 2.4]), y)"
     ],
     "language": "python",
     "metadata": {},
     "outputs": []
    },
    {
     "cell_type": "code",
     "collapsed": false,
     "input": [
      "z = linspace(0,5,1000)\n",
      "plot(z, h(z)/h_lcdm(z))"
     ],
     "language": "python",
     "metadata": {},
     "outputs": []
    },
    {
     "cell_type": "code",
     "collapsed": false,
     "input": [
      "plot(z, da(z)/da_lcdm(z))"
     ],
     "language": "python",
     "metadata": {},
     "outputs": []
    },
    {
     "cell_type": "code",
     "collapsed": false,
     "input": [
      "from scipy.optimize import show_options\n",
      "show_options(solver='minimize')#, method = 'COBLYA')"
     ],
     "language": "python",
     "metadata": {},
     "outputs": [
      {
       "output_type": "stream",
       "stream": "stdout",
       "text": [
        "**Minimize options**\n",
        "\n",
        "*BFGS* options:\n",
        "\n",
        "    gtol : float\n",
        "        Gradient norm must be less than `gtol` before successful\n",
        "        termination.\n",
        "    norm : float\n",
        "        Order of norm (Inf is max, -Inf is min).\n",
        "    eps : float or ndarray\n",
        "        If `jac` is approximated, use this value for the step size.\n",
        "\n",
        "*Nelder-Mead* options:\n",
        "\n",
        "    xtol : float\n",
        "        Relative error in solution `xopt` acceptable for convergence.\n",
        "    ftol : float\n",
        "        Relative error in ``fun(xopt)`` acceptable for convergence.\n",
        "    maxfev : int\n",
        "        Maximum number of function evaluations to make.\n",
        "\n",
        "*Newton-CG* options:\n",
        "\n",
        "    xtol : float\n",
        "        Average relative error in solution `xopt` acceptable for\n",
        "        convergence.\n",
        "    eps : float or ndarray\n",
        "        If `jac` is approximated, use this value for the step size.\n",
        "\n",
        "*CG* options:\n",
        "\n",
        "    gtol : float\n",
        "        Gradient norm must be less than `gtol` before successful\n",
        "        termination.\n",
        "    norm : float\n",
        "        Order of norm (Inf is max, -Inf is min).\n",
        "    eps : float or ndarray\n",
        "        If `jac` is approximated, use this value for the step size.\n",
        "\n",
        "*Powell* options:\n",
        "\n",
        "    xtol : float\n",
        "        Relative error in solution `xopt` acceptable for convergence.\n",
        "    ftol : float\n",
        "        Relative error in ``fun(xopt)`` acceptable for convergence.\n",
        "    maxfev : int\n",
        "        Maximum number of function evaluations to make.\n",
        "    direc : ndarray\n",
        "        Initial set of direction vectors for the Powell method.\n",
        "\n",
        "*Anneal* options:\n",
        "\n",
        "    ftol : float\n",
        "        Relative error in ``fun(x)`` acceptable for convergence.\n",
        "    schedule : str\n",
        "        Annealing schedule to use. One of: 'fast', 'cauchy' or\n",
        "        'boltzmann'.\n",
        "    T0 : float\n",
        "        Initial Temperature (estimated as 1.2 times the largest\n",
        "        cost-function deviation over random points in the range).\n",
        "    Tf : float\n",
        "        Final goal temperature.\n",
        "    maxfev : int\n",
        "        Maximum number of function evaluations to make.\n",
        "    maxaccept : int\n",
        "        Maximum changes to accept.\n",
        "    boltzmann : float\n",
        "        Boltzmann constant in acceptance test (increase for less\n",
        "        stringent test at each temperature).\n",
        "    learn_rate : float\n",
        "        Scale constant for adjusting guesses.\n",
        "    quench, m, n : float\n",
        "        Parameters to alter fast_sa schedule.\n",
        "    lower, upper : float or ndarray\n",
        "        Lower and upper bounds on `x`.\n",
        "    dwell : int\n",
        "        The number of times to search the space at each temperature.\n",
        "\n",
        "*L-BFGS-B* options:\n",
        "\n",
        "    ftol : float\n",
        "        The iteration stops when ``(f^k -\n",
        "        f^{k+1})/max{|f^k|,|f^{k+1}|,1} <= ftol``.\n",
        "    gtol : float\n",
        "        The iteration will stop when ``max{|proj g_i | i = 1, ..., n}\n",
        "        <= gtol`` where ``pg_i`` is the i-th component of the\n",
        "        projected gradient.\n",
        "    maxcor : int\n",
        "        The maximum number of variable metric corrections used to\n",
        "        define the limited memory matrix. (The limited memory BFGS\n",
        "        method does not store the full hessian but uses this many terms\n",
        "        in an approximation to it.)\n",
        "    maxiter : int\n",
        "        Maximum number of function evaluations.\n",
        "\n",
        "*TNC* options:\n",
        "\n",
        "    ftol : float\n",
        "        Precision goal for the value of f in the stoping criterion.\n",
        "        If ftol < 0.0, ftol is set to 0.0 defaults to -1.\n",
        "    xtol : float\n",
        "        Precision goal for the value of x in the stopping\n",
        "        criterion (after applying x scaling factors).  If xtol <\n",
        "        0.0, xtol is set to sqrt(machine_precision).  Defaults to\n",
        "        -1.\n",
        "    gtol : float\n",
        "        Precision goal for the value of the projected gradient in\n",
        "        the stopping criterion (after applying x scaling factors).\n",
        "        If gtol < 0.0, gtol is set to 1e-2 * sqrt(accuracy).\n",
        "        Setting it to 0.0 is not recommended.  Defaults to -1.\n",
        "    scale : list of floats\n",
        "        Scaling factors to apply to each variable.  If None, the\n",
        "        factors are up-low for interval bounded variables and\n",
        "        1+|x] fo the others.  Defaults to None\n",
        "    offset : float\n",
        "        Value to subtract from each variable.  If None, the\n",
        "        offsets are (up+low)/2 for interval bounded variables\n",
        "        and x for the others.\n",
        "    maxCGit : int\n",
        "        Maximum number of hessian*vector evaluations per main\n",
        "        iteration.  If maxCGit == 0, the direction chosen is\n",
        "        -gradient if maxCGit < 0, maxCGit is set to\n",
        "        max(1,min(50,n/2)).  Defaults to -1.\n",
        "    maxiter : int\n",
        "        Maximum number of function evaluation.  if None, `maxiter` is\n",
        "        set to max(100, 10*len(x0)).  Defaults to None.\n",
        "    eta : float\n",
        "        Severity of the line search. if < 0 or > 1, set to 0.25.\n",
        "        Defaults to -1.\n",
        "    stepmx : float\n",
        "        Maximum step for the line search.  May be increased during\n",
        "        call.  If too small, it will be set to 10.0.  Defaults to 0.\n",
        "    accuracy : float\n",
        "        Relative precision for finite difference calculations.  If\n",
        "        <= machine_precision, set to sqrt(machine_precision).\n",
        "        Defaults to 0.\n",
        "    minfev : float\n",
        "        Minimum function value estimate.  Defaults to 0.\n",
        "    rescale : float\n",
        "        Scaling factor (in log10) used to trigger f value\n",
        "        rescaling.  If 0, rescale at each iteration.  If a large\n",
        "        value, never rescale.  If < 0, rescale is set to 1.3.\n",
        "\n",
        "*COBYLA* options:\n",
        "\n",
        "    tol : float\n",
        "        Final accuracy in the optimization (not precisely guaranteed).\n",
        "        This is a lower bound on the size of the trust region.\n",
        "    rhobeg : float\n",
        "        Reasonable initial changes to the variables.\n",
        "    maxfev : int\n",
        "        Maximum number of function evaluations.\n",
        "    catol : float\n",
        "        Absolute tolerance for constraint violations (default: 1e-6).\n",
        "\n",
        "*SLSQP* options:\n",
        "\n",
        "    ftol : float\n",
        "        Precision goal for the value of f in the stopping criterion.\n",
        "    eps : float\n",
        "        Step size used for numerical approximation of the jacobian.\n",
        "    maxiter : int\n",
        "        Maximum number of iterations.\n",
        "\n",
        "*dogleg* options:\n",
        "\n",
        "    initial_trust_radius : float\n",
        "        Initial trust-region radius.\n",
        "    max_trust_radius : float\n",
        "        Maximum value of the trust-region radius. No steps that are longer\n",
        "        than this value will be proposed.\n",
        "    eta : float\n",
        "        Trust region related acceptance stringency for proposed steps.\n",
        "    gtol : float\n",
        "        Gradient norm must be less than `gtol` before successful\n",
        "        termination.\n",
        "\n",
        "*trust-ncg* options:\n",
        "\n",
        "    See dogleg options.\n"
       ]
      }
     ],
     "prompt_number": 3
    },
    {
     "cell_type": "code",
     "collapsed": false,
     "input": [],
     "language": "python",
     "metadata": {},
     "outputs": []
    }
   ],
   "metadata": {}
  }
 ]
}