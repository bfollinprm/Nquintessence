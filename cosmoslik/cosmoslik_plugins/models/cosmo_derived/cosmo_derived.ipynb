{
 "metadata": {
  "name": "",
  "signature": "sha256:0e4ff2683a5351721c4ea3fce7f0dfcfc91688fb665698c509e563108dc84bfa"
 },
 "nbformat": 3,
 "nbformat_minor": 0,
 "worksheets": [
  {
   "cells": [
    {
     "cell_type": "heading",
     "level": 1,
     "metadata": {},
     "source": [
      "cosmo_derived"
     ]
    },
    {
     "cell_type": "markdown",
     "metadata": {},
     "source": [
      "This plugin calculates the following \"derived\" cosmological quantities:\n",
      "* $H(z)$\n",
      "* $D_A(z)$\n",
      "* $r_s(z)$\n",
      "* $\\theta_s(z)$\n",
      "* $z_{\\rm drag}$ (Hu & Sugiyama fitting formula)\n",
      "\n",
      "It can also be used as a $\\theta$ to $H_0$ converter.\n",
      "\n",
      "Credit: Lloyd Knox, code adapted by Marius Millea"
     ]
    },
    {
     "cell_type": "code",
     "collapsed": false,
     "input": [
      "from cosmoslik import *"
     ],
     "language": "python",
     "metadata": {},
     "outputs": [],
     "prompt_number": 1
    },
    {
     "cell_type": "code",
     "collapsed": false,
     "input": [
      "cosmo_derived = get_plugin('models.cosmo_derived')()"
     ],
     "language": "python",
     "metadata": {},
     "outputs": [],
     "prompt_number": 2
    },
    {
     "cell_type": "markdown",
     "metadata": {},
     "source": [
      "To use `cosmo_derived`, first call the `set_params` function to set all the cosmological parameters, then call the other functions which will subsequently use those values. Here's the signature for `set_params`:"
     ]
    },
    {
     "cell_type": "code",
     "collapsed": false,
     "input": [
      "help(cosmo_derived.set_params)"
     ],
     "language": "python",
     "metadata": {},
     "outputs": [
      {
       "output_type": "stream",
       "stream": "stdout",
       "text": [
        "Help on built-in function set_params:\n",
        "\n",
        "set_params(...)\n",
        "    _cosmo_derived.set_params(self, H0=None, theta_mc=None, ombh2=None, omch2=None, omk=None, mnu=None, massive_neutrinos=None, massless_neutrinos=None, Tcmb=None, Yp=None, **kwargs)\n",
        "    \n",
        "    Args:\n",
        "        H0 : hubble constant today in km/s/Mpc\n",
        "        ombh2, omch2, omk : densities today\n",
        "        mnu : neutrino mass sum in eV\n",
        "        massive_neutrinos : number of massive species (mnu divided equally among them)\n",
        "        massless_neutrinos : number of massless species\n",
        "        Yp : helium mass fraction\n",
        "        Tcmb : CMB temperature in Kelvin\n",
        "        theta_mc : if given, will convert to H0 and set H0 to that\n",
        "\n"
       ]
      }
     ],
     "prompt_number": 3
    },
    {
     "cell_type": "code",
     "collapsed": false,
     "input": [
      "cosmo_derived.set_params(H0=67.04, ombh2=0.022032, omch2=0.12038, omk=0, mnu=0.06, massive_neutrinos=1, massless_neutrinos=2.046)"
     ],
     "language": "python",
     "metadata": {},
     "outputs": [],
     "prompt_number": 4
    },
    {
     "cell_type": "markdown",
     "metadata": {},
     "source": [
      "Plotting $H(z)$,"
     ]
    },
    {
     "cell_type": "code",
     "collapsed": false,
     "input": [
      "z=logspace(-2,6)\n",
      "loglog(z,array(map(cosmo_derived.Hubble,z)))\n",
      "xlabel(r'$z$',size=16)\n",
      "ylabel(r'$H(z) \\, [\\rm km/s/Mpc]$',size=16);"
     ],
     "language": "python",
     "metadata": {},
     "outputs": [
      {
       "metadata": {},
       "output_type": "display_data",
       "png": "[encoded data removed]",
       "text": [
        "<matplotlib.figure.Figure at 0x7f29af8348d0>"
       ]
      }
     ],
     "prompt_number": 5
    },
    {
     "cell_type": "markdown",
     "metadata": {},
     "source": [
      "Here's the angular size of sound horizon at Planck's best-fit $z_*$ (Table 2, Planck XVI). The number for $\\theta_s$ in that same table is $0.0104136$, or a difference of $0.09 \\sigma$. This is likely due to differences in numerical values for physical constants that were used, or numerical integration error."
     ]
    },
    {
     "cell_type": "code",
     "collapsed": false,
     "input": [
      "z_star = 1090.48\n",
      "cosmo_derived.theta_s(z_star)"
     ],
     "language": "python",
     "metadata": {},
     "outputs": [
      {
       "metadata": {},
       "output_type": "pyout",
       "prompt_number": 6,
       "text": [
        "0.010414141562032136"
       ]
      }
     ],
     "prompt_number": 6
    },
    {
     "cell_type": "markdown",
     "metadata": {},
     "source": [
      "We can also use this plugin to convert $\\theta$ to $H_0$. Here $\\theta$ refers to $\\theta_{\\rm MC}$ which uses the Hu & Sugiyama fitting formula for $z_{\\rm drag}$."
     ]
    },
    {
     "cell_type": "code",
     "collapsed": false,
     "input": [
      "cosmo_derived.theta2hubble(0.0104)"
     ],
     "language": "python",
     "metadata": {},
     "outputs": [
      {
       "metadata": {},
       "output_type": "pyout",
       "prompt_number": 7,
       "text": [
        "66.95260969910498"
       ]
      }
     ],
     "prompt_number": 7
    },
    {
     "cell_type": "markdown",
     "metadata": {},
     "source": [
      "This plugin is written in Cython and is highly optimizied, so its pretty fast."
     ]
    },
    {
     "cell_type": "code",
     "collapsed": false,
     "input": [
      "%%timeit\n",
      "cosmo_derived.theta_s(z_star)"
     ],
     "language": "python",
     "metadata": {},
     "outputs": [
      {
       "output_type": "stream",
       "stream": "stdout",
       "text": [
        "100 loops, best of 3: 9.89 ms per loop\n"
       ]
      }
     ],
     "prompt_number": 8
    },
    {
     "cell_type": "code",
     "collapsed": false,
     "input": [
      "%%timeit\n",
      "cosmo_derived.theta2hubble(0.0104)"
     ],
     "language": "python",
     "metadata": {},
     "outputs": [
      {
       "output_type": "stream",
       "stream": "stdout",
       "text": [
        "10 loops, best of 3: 61.6 ms per loop\n"
       ]
      }
     ],
     "prompt_number": 9
    },
    {
     "cell_type": "markdown",
     "metadata": {},
     "source": [
      "The $\\theta_s$ calculation about 7 times slower than the equivalent Fortran code used in CosmoMC. The theta to hubble conversion is about 3 times **faster** than the CosmoMC version because the equation solver is more sophisticated and requires fewer $\\theta_s$ evaluations. Not bad for being very readable and modifiable Cython code instead. As an example, here's what the code looks like:\n",
      "\n",
      "```cython\n",
      "\n",
      "    def r_s(self, double z):\n",
      "        \"\"\"\n",
      "        Returns : comoving sound horizon scale at redshift z in Mpc.\n",
      "        \"\"\"\n",
      "        cdef double Rovera=3*self.ombh2*rhoxOverOmegaxh2/(4*self.rhogamma0)\n",
      "        return quad(lambda double zp: 1/self.Hubble(zp) / sqrt(3*(1+Rovera/(1+zp))),z,inf,epsabs=0,epsrel=self.epsrel)[0] / KmPerSOverC\n",
      "\n",
      "```"
     ]
    }
   ],
   "metadata": {}
  }
 ]
}